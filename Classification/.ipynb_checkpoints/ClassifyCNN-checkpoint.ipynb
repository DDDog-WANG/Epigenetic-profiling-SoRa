{
 "cells": [
  {
   "cell_type": "code",
   "execution_count": 9,
   "metadata": {},
   "outputs": [],
   "source": [
    "import cv2,os\n",
    "from skimage import io\n",
    "from PIL import Image\n",
    "import numpy as np\n",
    "from matplotlib import pyplot as plt\n",
    "from tqdm import tqdm_notebook as tqdm\n",
    "\n",
    "# from sklearn.model_selection import train_test_split\n",
    "from sklearn.metrics import roc_auc_score,precision_score,accuracy_score,roc_curve\n",
    "import torch\n",
    "from torch.utils.data import random_split\n",
    "import torch.nn as nn\n",
    "import torch.nn.functional as F\n",
    "from torchvision import transforms\n",
    "import torchvision.models as models"
   ]
  },
  {
   "cell_type": "code",
   "execution_count": 2,
   "metadata": {},
   "outputs": [
    {
     "name": "stdout",
     "output_type": "stream",
     "text": [
      "torch.device(cuda)\n",
      "torch.cuda.device_count():  4\n",
      "Tesla V100-SXM2-16GB\n",
      "Tesla V100-SXM2-16GB\n",
      "Tesla V100-SXM2-16GB\n",
      "Tesla V100-SXM2-16GB\n",
      "torch.cuda.current_device() 0\n"
     ]
    }
   ],
   "source": [
    "if torch.cuda.is_available():\n",
    "    device = torch.device(\"cuda\")\n",
    "    print(\"torch.device(cuda)\")\n",
    "    print(\"torch.cuda.device_count(): \", torch.cuda.device_count())\n",
    "    for i in range(torch.cuda.device_count()):\n",
    "        print(torch.cuda.get_device_name())\n",
    "    print(\"torch.cuda.current_device()\", torch.cuda.current_device())\n",
    "else:\n",
    "    device = torch.device(\"cpu\")\n",
    "    print(\"torch.device(cpu)\")"
   ]
  },
  {
   "cell_type": "markdown",
   "metadata": {
    "id": "aJjxv_T_DNKk"
   },
   "source": [
    "# 1. Read data"
   ]
  },
  {
   "cell_type": "code",
   "execution_count": 4,
   "metadata": {},
   "outputs": [],
   "source": [
    "X_Ctrl = np.load(\"Ctrl_pad_unit8.npy\",allow_pickle=True)\n",
    "X_VPA = np.load(\"VPA_pad_unit8.npy\",allow_pickle=True)\n",
    "y_Ctrl = torch.zeros(len(X_Ctrl), dtype=torch.int64)\n",
    "y_VPA = torch.ones(len(X_VPA), dtype=torch.int64)\n",
    "X = np.concatenate((X_Ctrl, X_VPA), axis = 0)\n",
    "y = torch.cat((y_Ctrl, y_VPA), 0)"
   ]
  },
  {
   "cell_type": "markdown",
   "metadata": {
    "id": "qyvCoE-HDNKm"
   },
   "source": [
    "# 2. Data processing"
   ]
  },
  {
   "cell_type": "code",
   "execution_count": 5,
   "metadata": {
    "executionInfo": {
     "elapsed": 290,
     "status": "ok",
     "timestamp": 1627023529885,
     "user": {
      "displayName": "Yicheng Wang",
      "photoUrl": "https://lh3.googleusercontent.com/a-/AOh14GgziKLn_im8Zl7A_SAzLLRm66nioH7fG0xuCYpJYg=s64",
      "userId": "10487961361854797289"
     },
     "user_tz": -540
    },
    "id": "Fh058iRlDNKm"
   },
   "outputs": [],
   "source": [
    "class cell_dataset(torch.utils.data.Dataset):\n",
    "    def __init__(self, x, y):\n",
    "        self.x = x\n",
    "        self.y = y\n",
    "        self.transform = transforms.ToTensor()\n",
    "    def __len__(self):\n",
    "        return len(self.x)\n",
    "    def __getitem__(self, idx):\n",
    "        return self.transform(self.x[idx]).to(torch.float), F.one_hot(self.y[idx],num_classes=2).to(torch.float)\n",
    "\n",
    "data = cell_dataset(X, y)"
   ]
  },
  {
   "cell_type": "code",
   "execution_count": 15,
   "metadata": {},
   "outputs": [],
   "source": [
    "train_size = int(len(X)*0.8)\n",
    "test_size = len(X) - train_size\n",
    "\n",
    "train_data, test_data = random_split(dataset=data, lengths=[train_size, test_size], generator=torch.Generator().manual_seed(42))"
   ]
  },
  {
   "cell_type": "code",
   "execution_count": 16,
   "metadata": {
    "executionInfo": {
     "elapsed": 325,
     "status": "ok",
     "timestamp": 1627023533467,
     "user": {
      "displayName": "Yicheng Wang",
      "photoUrl": "https://lh3.googleusercontent.com/a-/AOh14GgziKLn_im8Zl7A_SAzLLRm66nioH7fG0xuCYpJYg=s64",
      "userId": "10487961361854797289"
     },
     "user_tz": -540
    },
    "id": "xK5exWXUDNKn"
   },
   "outputs": [],
   "source": [
    "batch_size = 128\n",
    "\n",
    "dataloader_train = torch.utils.data.DataLoader(train_data, batch_size=batch_size, shuffle=True)\n",
    "dataloader_test = torch.utils.data.DataLoader(test_data, batch_size=batch_size, shuffle=True)"
   ]
  },
  {
   "cell_type": "code",
   "execution_count": 18,
   "metadata": {},
   "outputs": [
    {
     "name": "stdout",
     "output_type": "stream",
     "text": [
      "Total number of train :  1804\n",
      "train_class_0:  851\n",
      "train_class_1:  953\n",
      "\n",
      "Total number of test :  451\n",
      "test_class_0 num :  205\n",
      "test_class_1 num :  246\n"
     ]
    }
   ],
   "source": [
    "train_data_01 = 0\n",
    "train_size = len(train_data)\n",
    "for i in range(train_size):\n",
    "    train_data_01+=int(train_data[i][1][1].item())\n",
    "print(\"Total number of train : \", train_size)\n",
    "print(\"train_class_0: \", train_size-train_data_01)\n",
    "print(\"train_class_1: \", train_data_01)\n",
    "\n",
    "test_data_01 = 0\n",
    "test_size = len(test_data)\n",
    "for i in range(test_size):\n",
    "    test_data_01+=int(test_data[i][1][1].item())\n",
    "print(\"\\nTotal number of test : \", test_size)\n",
    "print(\"test_class_0 num : \", test_size-test_data_01)\n",
    "print(\"test_class_1 num : \", test_data_01)"
   ]
  },
  {
   "cell_type": "markdown",
   "metadata": {
    "id": "-KBoEbEMDNKo"
   },
   "source": [
    "# 3. ResNet model"
   ]
  },
  {
   "cell_type": "code",
   "execution_count": 20,
   "metadata": {},
   "outputs": [],
   "source": [
    "# model = torch.load(\"model/SelfResnet9C1F_220920.pkl\")"
   ]
  },
  {
   "cell_type": "code",
   "execution_count": 36,
   "metadata": {
    "id": "xs6IXgvsDNKp",
    "scrolled": false
   },
   "outputs": [],
   "source": [
    "class ResNet(nn.Module):\n",
    "    def __init__(self):\n",
    "        super(ResNet,self).__init__()\n",
    "        self.resnet = models.resnet18(weights=True)\n",
    "        self.resnet.layer3 = nn.Sequential()\n",
    "        self.resnet.layer4 = nn.Sequential()\n",
    "        self.resnet.fc = nn.Linear(128, 2)\n",
    "        \n",
    "    def forward(self, x):\n",
    "        x = self.resnet(x)\n",
    "        x = nn.Softmax(dim=1)(x)\n",
    "        return x\n",
    "    \n",
    "model = ResNet().to(device)"
   ]
  },
  {
   "cell_type": "code",
   "execution_count": 37,
   "metadata": {},
   "outputs": [],
   "source": [
    "# model.fc = nn.Sequential(\n",
    "#     nn.Linear(128, 512),\n",
    "#     nn.Dropout(p=0.5),\n",
    "#     nn.ReLU(inplace=True),\n",
    "#     nn.Linear(512, 256),\n",
    "#     nn.ReLU(inplace=True),\n",
    "#     nn.Linear(256, 2)\n",
    "# )\n",
    "\n",
    "# #Freeze model weights\n",
    "# for param in model.parameters():\n",
    "#     param.requires_grad = True\n",
    "# for param in model.fc.parameters():\n",
    "#     param.requires_grad = True"
   ]
  },
  {
   "cell_type": "code",
   "execution_count": 38,
   "metadata": {},
   "outputs": [],
   "source": [
    "ngpu = 4\n",
    "if (device.type == 'cuda') and (ngpu > 1):\n",
    "    model = nn.DataParallel(model, list(range(ngpu)))"
   ]
  },
  {
   "cell_type": "code",
   "execution_count": 39,
   "metadata": {},
   "outputs": [
    {
     "name": "stdout",
     "output_type": "stream",
     "text": [
      "torch.Size([1, 2])\n"
     ]
    }
   ],
   "source": [
    "image_size = 512\n",
    "test_input = torch.ones(1,3,image_size,image_size).to(device)\n",
    "print(model(test_input).size())"
   ]
  },
  {
   "cell_type": "code",
   "execution_count": 42,
   "metadata": {},
   "outputs": [],
   "source": [
    "model.avgpool = nn.AdaptiveAvgPool2d(1)\n",
    "loss_function = nn.BCELoss()\n",
    "\n",
    "optimizer = torch.optim.Adam(model.parameters(), lr=0.0001)  # 定义优化器\n",
    "scheduler = torch.optim.lr_scheduler.ExponentialLR(optimizer, gamma=0.99) # 定义衰减策略"
   ]
  },
  {
   "cell_type": "code",
   "execution_count": 43,
   "metadata": {},
   "outputs": [],
   "source": [
    "losstrain=[]\n",
    "lossvalid=[]\n",
    "Accuracytrain=[]\n",
    "Accuracyvalid=[]"
   ]
  },
  {
   "cell_type": "code",
   "execution_count": 44,
   "metadata": {
    "scrolled": true
   },
   "outputs": [
    {
     "name": "stdout",
     "output_type": "stream",
     "text": [
      "EPOCH: 0, Train [Loss: 0.661, Accuracy: 0.703], Valid [Loss: 0.664, Accuracy: 0.545]\n",
      "EPOCH: 1, Train [Loss: 0.499, Accuracy: 0.930], Valid [Loss: 0.549, Accuracy: 0.616]\n",
      "EPOCH: 2, Train [Loss: 0.329, Accuracy: 0.976], Valid [Loss: 0.227, Accuracy: 0.993]\n",
      "EPOCH: 3, Train [Loss: 0.241, Accuracy: 0.990], Valid [Loss: 0.172, Accuracy: 0.982]\n",
      "EPOCH: 4, Train [Loss: 0.198, Accuracy: 0.989], Valid [Loss: 0.233, Accuracy: 0.949]\n",
      "EPOCH: 5, Train [Loss: 0.183, Accuracy: 0.992], Valid [Loss: 0.125, Accuracy: 0.993]\n",
      "EPOCH: 6, Train [Loss: 0.156, Accuracy: 0.994], Valid [Loss: 0.124, Accuracy: 0.993]\n",
      "EPOCH: 7, Train [Loss: 0.137, Accuracy: 0.992], Valid [Loss: 0.145, Accuracy: 0.976]\n",
      "EPOCH: 8, Train [Loss: 0.134, Accuracy: 0.989], Valid [Loss: 0.102, Accuracy: 0.993]\n",
      "EPOCH: 9, Train [Loss: 0.108, Accuracy: 0.992], Valid [Loss: 0.089, Accuracy: 0.998]\n",
      "EPOCH: 10, Train [Loss: 0.112, Accuracy: 0.996], Valid [Loss: 0.073, Accuracy: 0.993]\n",
      "EPOCH: 11, Train [Loss: 0.119, Accuracy: 0.990], Valid [Loss: 0.248, Accuracy: 0.902]\n",
      "EPOCH: 12, Train [Loss: 0.088, Accuracy: 0.993], Valid [Loss: 0.123, Accuracy: 0.989]\n",
      "EPOCH: 13, Train [Loss: 0.098, Accuracy: 0.994], Valid [Loss: 0.065, Accuracy: 0.998]\n",
      "EPOCH: 14, Train [Loss: 0.111, Accuracy: 0.990], Valid [Loss: 0.075, Accuracy: 0.991]\n",
      "EPOCH: 15, Train [Loss: 0.100, Accuracy: 0.983], Valid [Loss: 0.416, Accuracy: 0.752]\n",
      "EPOCH: 16, Train [Loss: 0.083, Accuracy: 0.994], Valid [Loss: 0.434, Accuracy: 0.774]\n",
      "EPOCH: 17, Train [Loss: 0.072, Accuracy: 0.994], Valid [Loss: 0.063, Accuracy: 1.000]\n",
      "EPOCH: 18, Train [Loss: 0.083, Accuracy: 0.996], Valid [Loss: 0.055, Accuracy: 0.998]\n",
      "EPOCH: 19, Train [Loss: 0.078, Accuracy: 0.991], Valid [Loss: 0.083, Accuracy: 0.989]\n",
      "EPOCH: 20, Train [Loss: 0.097, Accuracy: 0.994], Valid [Loss: 0.223, Accuracy: 0.900]\n",
      "EPOCH: 21, Train [Loss: 0.079, Accuracy: 0.994], Valid [Loss: 0.079, Accuracy: 0.991]\n",
      "EPOCH: 22, Train [Loss: 0.072, Accuracy: 0.986], Valid [Loss: 0.065, Accuracy: 0.993]\n",
      "EPOCH: 23, Train [Loss: 0.076, Accuracy: 0.995], Valid [Loss: 0.047, Accuracy: 0.998]\n",
      "EPOCH: 24, Train [Loss: 0.067, Accuracy: 0.998], Valid [Loss: 0.053, Accuracy: 1.000]\n",
      "EPOCH: 25, Train [Loss: 0.060, Accuracy: 0.995], Valid [Loss: 0.071, Accuracy: 0.984]\n",
      "EPOCH: 26, Train [Loss: 0.063, Accuracy: 0.994], Valid [Loss: 0.033, Accuracy: 0.998]\n",
      "EPOCH: 27, Train [Loss: 0.052, Accuracy: 0.997], Valid [Loss: 0.043, Accuracy: 0.998]\n",
      "EPOCH: 28, Train [Loss: 0.040, Accuracy: 0.998], Valid [Loss: 0.033, Accuracy: 0.998]\n",
      "EPOCH: 29, Train [Loss: 0.070, Accuracy: 0.996], Valid [Loss: 0.032, Accuracy: 0.998]\n",
      "EPOCH: 30, Train [Loss: 0.066, Accuracy: 0.992], Valid [Loss: 0.085, Accuracy: 0.982]\n",
      "EPOCH: 31, Train [Loss: 0.040, Accuracy: 0.997], Valid [Loss: 0.046, Accuracy: 1.000]\n",
      "EPOCH: 32, Train [Loss: 0.048, Accuracy: 0.998], Valid [Loss: 0.027, Accuracy: 0.998]\n",
      "EPOCH: 33, Train [Loss: 0.059, Accuracy: 0.994], Valid [Loss: 0.039, Accuracy: 0.996]\n",
      "EPOCH: 34, Train [Loss: 0.033, Accuracy: 0.999], Valid [Loss: 0.030, Accuracy: 1.000]\n",
      "EPOCH: 35, Train [Loss: 0.050, Accuracy: 0.997], Valid [Loss: 0.024, Accuracy: 1.000]\n",
      "EPOCH: 36, Train [Loss: 0.052, Accuracy: 0.997], Valid [Loss: 0.040, Accuracy: 0.998]\n",
      "EPOCH: 37, Train [Loss: 0.041, Accuracy: 0.995], Valid [Loss: 0.074, Accuracy: 0.989]\n",
      "EPOCH: 38, Train [Loss: 0.049, Accuracy: 0.997], Valid [Loss: 0.024, Accuracy: 0.998]\n",
      "EPOCH: 39, Train [Loss: 0.037, Accuracy: 0.996], Valid [Loss: 0.036, Accuracy: 0.998]\n",
      "EPOCH: 40, Train [Loss: 0.033, Accuracy: 0.996], Valid [Loss: 0.022, Accuracy: 0.998]\n",
      "EPOCH: 41, Train [Loss: 0.040, Accuracy: 0.997], Valid [Loss: 0.025, Accuracy: 0.998]\n",
      "EPOCH: 42, Train [Loss: 0.053, Accuracy: 0.992], Valid [Loss: 0.022, Accuracy: 1.000]\n",
      "EPOCH: 43, Train [Loss: 0.038, Accuracy: 0.998], Valid [Loss: 0.029, Accuracy: 1.000]\n",
      "EPOCH: 44, Train [Loss: 0.042, Accuracy: 0.999], Valid [Loss: 0.030, Accuracy: 0.998]\n",
      "EPOCH: 45, Train [Loss: 0.030, Accuracy: 0.999], Valid [Loss: 0.020, Accuracy: 0.998]\n",
      "EPOCH: 46, Train [Loss: 0.034, Accuracy: 0.997], Valid [Loss: 0.019, Accuracy: 1.000]\n",
      "EPOCH: 47, Train [Loss: 0.029, Accuracy: 0.999], Valid [Loss: 0.023, Accuracy: 0.998]\n",
      "EPOCH: 48, Train [Loss: 0.029, Accuracy: 0.999], Valid [Loss: 0.019, Accuracy: 0.998]\n",
      "EPOCH: 49, Train [Loss: 0.026, Accuracy: 0.998], Valid [Loss: 0.021, Accuracy: 1.000]\n",
      "EPOCH: 50, Train [Loss: 0.034, Accuracy: 0.999], Valid [Loss: 0.023, Accuracy: 0.998]\n"
     ]
    },
    {
     "ename": "KeyboardInterrupt",
     "evalue": "",
     "output_type": "error",
     "traceback": [
      "\u001b[0;31m---------------------------------------------------------------------------\u001b[0m",
      "\u001b[0;31mKeyboardInterrupt\u001b[0m                         Traceback (most recent call last)",
      "\u001b[0;32m/tmp/11377433.1.gpu/ipykernel_141952/1844518523.py\u001b[0m in \u001b[0;36m<module>\u001b[0;34m\u001b[0m\n\u001b[1;32m      8\u001b[0m     \u001b[0mn_train\u001b[0m \u001b[0;34m=\u001b[0m \u001b[0;36m0\u001b[0m\u001b[0;34m\u001b[0m\u001b[0;34m\u001b[0m\u001b[0m\n\u001b[1;32m      9\u001b[0m     \u001b[0macc_train\u001b[0m \u001b[0;34m=\u001b[0m \u001b[0;36m0\u001b[0m\u001b[0;34m\u001b[0m\u001b[0;34m\u001b[0m\u001b[0m\n\u001b[0;32m---> 10\u001b[0;31m     \u001b[0;32mfor\u001b[0m \u001b[0mx\u001b[0m\u001b[0;34m,\u001b[0m \u001b[0my\u001b[0m \u001b[0;32min\u001b[0m \u001b[0mdataloader_train\u001b[0m\u001b[0;34m:\u001b[0m\u001b[0;34m\u001b[0m\u001b[0;34m\u001b[0m\u001b[0m\n\u001b[0m\u001b[1;32m     11\u001b[0m         \u001b[0mn_train\u001b[0m \u001b[0;34m+=\u001b[0m \u001b[0my\u001b[0m\u001b[0;34m.\u001b[0m\u001b[0msize\u001b[0m\u001b[0;34m(\u001b[0m\u001b[0;34m)\u001b[0m\u001b[0;34m[\u001b[0m\u001b[0;36m0\u001b[0m\u001b[0;34m]\u001b[0m\u001b[0;34m\u001b[0m\u001b[0;34m\u001b[0m\u001b[0m\n\u001b[1;32m     12\u001b[0m         \u001b[0mmodel\u001b[0m\u001b[0;34m.\u001b[0m\u001b[0mzero_grad\u001b[0m\u001b[0;34m(\u001b[0m\u001b[0;34m)\u001b[0m  \u001b[0;31m# 勾配の初期化\u001b[0m\u001b[0;34m\u001b[0m\u001b[0;34m\u001b[0m\u001b[0m\n",
      "\u001b[0;32m~/python7_env/lib/python3.7/site-packages/torch/utils/data/dataloader.py\u001b[0m in \u001b[0;36m__next__\u001b[0;34m(self)\u001b[0m\n\u001b[1;32m    679\u001b[0m                 \u001b[0;31m# TODO(https://github.com/pytorch/pytorch/issues/76750)\u001b[0m\u001b[0;34m\u001b[0m\u001b[0;34m\u001b[0m\u001b[0;34m\u001b[0m\u001b[0m\n\u001b[1;32m    680\u001b[0m                 \u001b[0mself\u001b[0m\u001b[0;34m.\u001b[0m\u001b[0m_reset\u001b[0m\u001b[0;34m(\u001b[0m\u001b[0;34m)\u001b[0m  \u001b[0;31m# type: ignore[call-arg]\u001b[0m\u001b[0;34m\u001b[0m\u001b[0;34m\u001b[0m\u001b[0m\n\u001b[0;32m--> 681\u001b[0;31m             \u001b[0mdata\u001b[0m \u001b[0;34m=\u001b[0m \u001b[0mself\u001b[0m\u001b[0;34m.\u001b[0m\u001b[0m_next_data\u001b[0m\u001b[0;34m(\u001b[0m\u001b[0;34m)\u001b[0m\u001b[0;34m\u001b[0m\u001b[0;34m\u001b[0m\u001b[0m\n\u001b[0m\u001b[1;32m    682\u001b[0m             \u001b[0mself\u001b[0m\u001b[0;34m.\u001b[0m\u001b[0m_num_yielded\u001b[0m \u001b[0;34m+=\u001b[0m \u001b[0;36m1\u001b[0m\u001b[0;34m\u001b[0m\u001b[0;34m\u001b[0m\u001b[0m\n\u001b[1;32m    683\u001b[0m             \u001b[0;32mif\u001b[0m \u001b[0mself\u001b[0m\u001b[0;34m.\u001b[0m\u001b[0m_dataset_kind\u001b[0m \u001b[0;34m==\u001b[0m \u001b[0m_DatasetKind\u001b[0m\u001b[0;34m.\u001b[0m\u001b[0mIterable\u001b[0m \u001b[0;32mand\u001b[0m\u001b[0;31m \u001b[0m\u001b[0;31m\\\u001b[0m\u001b[0;34m\u001b[0m\u001b[0;34m\u001b[0m\u001b[0m\n",
      "\u001b[0;32m~/python7_env/lib/python3.7/site-packages/torch/utils/data/dataloader.py\u001b[0m in \u001b[0;36m_next_data\u001b[0;34m(self)\u001b[0m\n\u001b[1;32m    719\u001b[0m     \u001b[0;32mdef\u001b[0m \u001b[0m_next_data\u001b[0m\u001b[0;34m(\u001b[0m\u001b[0mself\u001b[0m\u001b[0;34m)\u001b[0m\u001b[0;34m:\u001b[0m\u001b[0;34m\u001b[0m\u001b[0;34m\u001b[0m\u001b[0m\n\u001b[1;32m    720\u001b[0m         \u001b[0mindex\u001b[0m \u001b[0;34m=\u001b[0m \u001b[0mself\u001b[0m\u001b[0;34m.\u001b[0m\u001b[0m_next_index\u001b[0m\u001b[0;34m(\u001b[0m\u001b[0;34m)\u001b[0m  \u001b[0;31m# may raise StopIteration\u001b[0m\u001b[0;34m\u001b[0m\u001b[0;34m\u001b[0m\u001b[0m\n\u001b[0;32m--> 721\u001b[0;31m         \u001b[0mdata\u001b[0m \u001b[0;34m=\u001b[0m \u001b[0mself\u001b[0m\u001b[0;34m.\u001b[0m\u001b[0m_dataset_fetcher\u001b[0m\u001b[0;34m.\u001b[0m\u001b[0mfetch\u001b[0m\u001b[0;34m(\u001b[0m\u001b[0mindex\u001b[0m\u001b[0;34m)\u001b[0m  \u001b[0;31m# may raise StopIteration\u001b[0m\u001b[0;34m\u001b[0m\u001b[0;34m\u001b[0m\u001b[0m\n\u001b[0m\u001b[1;32m    722\u001b[0m         \u001b[0;32mif\u001b[0m \u001b[0mself\u001b[0m\u001b[0;34m.\u001b[0m\u001b[0m_pin_memory\u001b[0m\u001b[0;34m:\u001b[0m\u001b[0;34m\u001b[0m\u001b[0;34m\u001b[0m\u001b[0m\n\u001b[1;32m    723\u001b[0m             \u001b[0mdata\u001b[0m \u001b[0;34m=\u001b[0m \u001b[0m_utils\u001b[0m\u001b[0;34m.\u001b[0m\u001b[0mpin_memory\u001b[0m\u001b[0;34m.\u001b[0m\u001b[0mpin_memory\u001b[0m\u001b[0;34m(\u001b[0m\u001b[0mdata\u001b[0m\u001b[0;34m,\u001b[0m \u001b[0mself\u001b[0m\u001b[0;34m.\u001b[0m\u001b[0m_pin_memory_device\u001b[0m\u001b[0;34m)\u001b[0m\u001b[0;34m\u001b[0m\u001b[0;34m\u001b[0m\u001b[0m\n",
      "\u001b[0;32m~/python7_env/lib/python3.7/site-packages/torch/utils/data/_utils/fetch.py\u001b[0m in \u001b[0;36mfetch\u001b[0;34m(self, possibly_batched_index)\u001b[0m\n\u001b[1;32m     50\u001b[0m         \u001b[0;32melse\u001b[0m\u001b[0;34m:\u001b[0m\u001b[0;34m\u001b[0m\u001b[0;34m\u001b[0m\u001b[0m\n\u001b[1;32m     51\u001b[0m             \u001b[0mdata\u001b[0m \u001b[0;34m=\u001b[0m \u001b[0mself\u001b[0m\u001b[0;34m.\u001b[0m\u001b[0mdataset\u001b[0m\u001b[0;34m[\u001b[0m\u001b[0mpossibly_batched_index\u001b[0m\u001b[0;34m]\u001b[0m\u001b[0;34m\u001b[0m\u001b[0;34m\u001b[0m\u001b[0m\n\u001b[0;32m---> 52\u001b[0;31m         \u001b[0;32mreturn\u001b[0m \u001b[0mself\u001b[0m\u001b[0;34m.\u001b[0m\u001b[0mcollate_fn\u001b[0m\u001b[0;34m(\u001b[0m\u001b[0mdata\u001b[0m\u001b[0;34m)\u001b[0m\u001b[0;34m\u001b[0m\u001b[0;34m\u001b[0m\u001b[0m\n\u001b[0m",
      "\u001b[0;32m~/python7_env/lib/python3.7/site-packages/torch/utils/data/_utils/collate.py\u001b[0m in \u001b[0;36mdefault_collate\u001b[0;34m(batch)\u001b[0m\n\u001b[1;32m    173\u001b[0m \u001b[0;34m\u001b[0m\u001b[0m\n\u001b[1;32m    174\u001b[0m         \u001b[0;32mif\u001b[0m \u001b[0misinstance\u001b[0m\u001b[0;34m(\u001b[0m\u001b[0melem\u001b[0m\u001b[0;34m,\u001b[0m \u001b[0mtuple\u001b[0m\u001b[0;34m)\u001b[0m\u001b[0;34m:\u001b[0m\u001b[0;34m\u001b[0m\u001b[0;34m\u001b[0m\u001b[0m\n\u001b[0;32m--> 175\u001b[0;31m             \u001b[0;32mreturn\u001b[0m \u001b[0;34m[\u001b[0m\u001b[0mdefault_collate\u001b[0m\u001b[0;34m(\u001b[0m\u001b[0msamples\u001b[0m\u001b[0;34m)\u001b[0m \u001b[0;32mfor\u001b[0m \u001b[0msamples\u001b[0m \u001b[0;32min\u001b[0m \u001b[0mtransposed\u001b[0m\u001b[0;34m]\u001b[0m  \u001b[0;31m# Backwards compatibility.\u001b[0m\u001b[0;34m\u001b[0m\u001b[0;34m\u001b[0m\u001b[0m\n\u001b[0m\u001b[1;32m    176\u001b[0m         \u001b[0;32melse\u001b[0m\u001b[0;34m:\u001b[0m\u001b[0;34m\u001b[0m\u001b[0;34m\u001b[0m\u001b[0m\n\u001b[1;32m    177\u001b[0m             \u001b[0;32mtry\u001b[0m\u001b[0;34m:\u001b[0m\u001b[0;34m\u001b[0m\u001b[0;34m\u001b[0m\u001b[0m\n",
      "\u001b[0;32m~/python7_env/lib/python3.7/site-packages/torch/utils/data/_utils/collate.py\u001b[0m in \u001b[0;36m<listcomp>\u001b[0;34m(.0)\u001b[0m\n\u001b[1;32m    173\u001b[0m \u001b[0;34m\u001b[0m\u001b[0m\n\u001b[1;32m    174\u001b[0m         \u001b[0;32mif\u001b[0m \u001b[0misinstance\u001b[0m\u001b[0;34m(\u001b[0m\u001b[0melem\u001b[0m\u001b[0;34m,\u001b[0m \u001b[0mtuple\u001b[0m\u001b[0;34m)\u001b[0m\u001b[0;34m:\u001b[0m\u001b[0;34m\u001b[0m\u001b[0;34m\u001b[0m\u001b[0m\n\u001b[0;32m--> 175\u001b[0;31m             \u001b[0;32mreturn\u001b[0m \u001b[0;34m[\u001b[0m\u001b[0mdefault_collate\u001b[0m\u001b[0;34m(\u001b[0m\u001b[0msamples\u001b[0m\u001b[0;34m)\u001b[0m \u001b[0;32mfor\u001b[0m \u001b[0msamples\u001b[0m \u001b[0;32min\u001b[0m \u001b[0mtransposed\u001b[0m\u001b[0;34m]\u001b[0m  \u001b[0;31m# Backwards compatibility.\u001b[0m\u001b[0;34m\u001b[0m\u001b[0;34m\u001b[0m\u001b[0m\n\u001b[0m\u001b[1;32m    176\u001b[0m         \u001b[0;32melse\u001b[0m\u001b[0;34m:\u001b[0m\u001b[0;34m\u001b[0m\u001b[0;34m\u001b[0m\u001b[0m\n\u001b[1;32m    177\u001b[0m             \u001b[0;32mtry\u001b[0m\u001b[0;34m:\u001b[0m\u001b[0;34m\u001b[0m\u001b[0;34m\u001b[0m\u001b[0m\n",
      "\u001b[0;32m~/python7_env/lib/python3.7/site-packages/torch/utils/data/_utils/collate.py\u001b[0m in \u001b[0;36mdefault_collate\u001b[0;34m(batch)\u001b[0m\n\u001b[1;32m    139\u001b[0m             \u001b[0mstorage\u001b[0m \u001b[0;34m=\u001b[0m \u001b[0melem\u001b[0m\u001b[0;34m.\u001b[0m\u001b[0mstorage\u001b[0m\u001b[0;34m(\u001b[0m\u001b[0;34m)\u001b[0m\u001b[0;34m.\u001b[0m\u001b[0m_new_shared\u001b[0m\u001b[0;34m(\u001b[0m\u001b[0mnumel\u001b[0m\u001b[0;34m,\u001b[0m \u001b[0mdevice\u001b[0m\u001b[0;34m=\u001b[0m\u001b[0melem\u001b[0m\u001b[0;34m.\u001b[0m\u001b[0mdevice\u001b[0m\u001b[0;34m)\u001b[0m\u001b[0;34m\u001b[0m\u001b[0;34m\u001b[0m\u001b[0m\n\u001b[1;32m    140\u001b[0m             \u001b[0mout\u001b[0m \u001b[0;34m=\u001b[0m \u001b[0melem\u001b[0m\u001b[0;34m.\u001b[0m\u001b[0mnew\u001b[0m\u001b[0;34m(\u001b[0m\u001b[0mstorage\u001b[0m\u001b[0;34m)\u001b[0m\u001b[0;34m.\u001b[0m\u001b[0mresize_\u001b[0m\u001b[0;34m(\u001b[0m\u001b[0mlen\u001b[0m\u001b[0;34m(\u001b[0m\u001b[0mbatch\u001b[0m\u001b[0;34m)\u001b[0m\u001b[0;34m,\u001b[0m \u001b[0;34m*\u001b[0m\u001b[0mlist\u001b[0m\u001b[0;34m(\u001b[0m\u001b[0melem\u001b[0m\u001b[0;34m.\u001b[0m\u001b[0msize\u001b[0m\u001b[0;34m(\u001b[0m\u001b[0;34m)\u001b[0m\u001b[0;34m)\u001b[0m\u001b[0;34m)\u001b[0m\u001b[0;34m\u001b[0m\u001b[0;34m\u001b[0m\u001b[0m\n\u001b[0;32m--> 141\u001b[0;31m         \u001b[0;32mreturn\u001b[0m \u001b[0mtorch\u001b[0m\u001b[0;34m.\u001b[0m\u001b[0mstack\u001b[0m\u001b[0;34m(\u001b[0m\u001b[0mbatch\u001b[0m\u001b[0;34m,\u001b[0m \u001b[0;36m0\u001b[0m\u001b[0;34m,\u001b[0m \u001b[0mout\u001b[0m\u001b[0;34m=\u001b[0m\u001b[0mout\u001b[0m\u001b[0;34m)\u001b[0m\u001b[0;34m\u001b[0m\u001b[0;34m\u001b[0m\u001b[0m\n\u001b[0m\u001b[1;32m    142\u001b[0m     \u001b[0;32melif\u001b[0m \u001b[0melem_type\u001b[0m\u001b[0;34m.\u001b[0m\u001b[0m__module__\u001b[0m \u001b[0;34m==\u001b[0m \u001b[0;34m'numpy'\u001b[0m \u001b[0;32mand\u001b[0m \u001b[0melem_type\u001b[0m\u001b[0;34m.\u001b[0m\u001b[0m__name__\u001b[0m \u001b[0;34m!=\u001b[0m \u001b[0;34m'str_'\u001b[0m\u001b[0;31m \u001b[0m\u001b[0;31m\\\u001b[0m\u001b[0;34m\u001b[0m\u001b[0;34m\u001b[0m\u001b[0m\n\u001b[1;32m    143\u001b[0m             \u001b[0;32mand\u001b[0m \u001b[0melem_type\u001b[0m\u001b[0;34m.\u001b[0m\u001b[0m__name__\u001b[0m \u001b[0;34m!=\u001b[0m \u001b[0;34m'string_'\u001b[0m\u001b[0;34m:\u001b[0m\u001b[0;34m\u001b[0m\u001b[0;34m\u001b[0m\u001b[0m\n",
      "\u001b[0;31mKeyboardInterrupt\u001b[0m: "
     ]
    }
   ],
   "source": [
    "n_epochs = 100\n",
    "for epoch in range(n_epochs):\n",
    "    losses_train = []\n",
    "    losses_valid = []\n",
    "    # Train\n",
    "    optimizer.step()\n",
    "    model.train()\n",
    "    n_train = 0\n",
    "    acc_train = 0\n",
    "    for x, y in dataloader_train:\n",
    "        n_train += y.size()[0]\n",
    "        model.zero_grad()  # 勾配の初期化\n",
    "        x = x.to(device)  # テンソルをGPUに移動\n",
    "        y = y.to(device)\n",
    "        output = model.forward(x)  # 順伝播\n",
    "        loss = loss_function(output, y)  # 誤差(クロスエントロピー誤差関数)の計算\n",
    "        loss.backward()  # 誤差の逆伝播\n",
    "        optimizer.step()  # パラメータの更新\n",
    "        acc_train += (output.argmax(1) == y[:,1]).float().sum().item()\n",
    "        losses_train.append(loss.tolist())\n",
    "    # Evaluate\n",
    "    model.eval()\n",
    "    n_val = 0\n",
    "    acc_val = 0\n",
    "    for x, y in dataloader_test:\n",
    "        n_val += y.size()[0]\n",
    "        x = x.to(device)  # テンソルをGPUに移動\n",
    "        y = y.to(device)\n",
    "        output = model.forward(x)  # 順伝播\n",
    "        loss = loss_function(output, y)  # 誤差(クロスエントロピー誤差関数)の計算\n",
    "        acc_val += (output.argmax(1) == y[:,1]).float().sum().item()\n",
    "        losses_valid.append(loss.tolist())\n",
    "    scheduler.step()\n",
    "    # Visualize loss & accuracy    \n",
    "    losstrain.append(np.mean(losses_train))\n",
    "    Accuracytrain.append(acc_train/n_train)\n",
    "    lossvalid.append(np.mean(losses_valid))\n",
    "    Accuracyvalid.append(acc_val/n_val)\n",
    "    print('EPOCH: {}, Train [Loss: {:.3f}, Accuracy: {:.3f}], Valid [Loss: {:.3f}, Accuracy: {:.3f}]'\n",
    "          .format(epoch,np.mean(losses_train),acc_train/n_train,np.mean(losses_valid),acc_val/n_val))"
   ]
  },
  {
   "cell_type": "code",
   "execution_count": 46,
   "metadata": {},
   "outputs": [
    {
     "data": {
      "image/png": "[encoded data removed]",
      "text/plain": [
       "<Figure size 432x288 with 1 Axes>"
      ]
     },
     "metadata": {
      "needs_background": "light"
     },
     "output_type": "display_data"
    },
    {
     "data": {
      "text/plain": [
       "<Figure size 432x288 with 0 Axes>"
      ]
     },
     "metadata": {},
     "output_type": "display_data"
    }
   ],
   "source": [
    "# train processing plot\n",
    "n_epochs = 51\n",
    "epochs=range(1,n_epochs+1)\n",
    "plt.ylim(0,1.0)\n",
    "plt.plot(epochs,Accuracytrain,'b',label='Training accuracy')  \n",
    "plt.plot(epochs, Accuracyvalid,'r',label='Validation accuracy')\n",
    "plt.title('Training and Validation accuracy')\n",
    "plt.legend()\n",
    "plt.figure()\n",
    "plt.show()"
   ]
  },
  {
   "cell_type": "markdown",
   "metadata": {},
   "source": [
    "# 4. Test data"
   ]
  },
  {
   "cell_type": "code",
   "execution_count": 77,
   "metadata": {},
   "outputs": [
    {
     "name": "stdout",
     "output_type": "stream",
     "text": [
      "total_test: 451\n",
      "accuracy_score: 0.996\n",
      "precision_score: 1.000\n",
      "roc_auc_score: 1.000\n"
     ]
    },
    {
     "data": {
      "image/png": "[encoded data removed]",
      "text/plain": [
       "<Figure size 432x288 with 1 Axes>"
      ]
     },
     "metadata": {
      "needs_background": "light"
     },
     "output_type": "display_data"
    }
   ],
   "source": [
    "y = []\n",
    "y_pred = []\n",
    "out_pred = []\n",
    "total = len(test_data)\n",
    "\n",
    "model.eval()\n",
    "for n in range(total):\n",
    "    img = test_data[n][0]\n",
    "    label = test_data[n][1][1].item()\n",
    "    input_tensor = img.unsqueeze(0).to(device)\n",
    "    output = model(input_tensor)\n",
    "    pred = output.argmax(1).cpu().item()\n",
    "    out_pred.append(output[0][1].item())\n",
    "    y_pred.append(pred)\n",
    "    y.append(label)\n",
    "\n",
    "y = np.array(y)\n",
    "y_pred = np.array(y_pred)\n",
    "out_pred = np.array(out_pred)\n",
    "print(\"total_test: {:}\" .format(total))\n",
    "\n",
    "print('accuracy_score: {:.3f}'.format(accuracy_score(y,y_pred)))\n",
    "print('precision_score: {:.3f}'.format(precision_score(y,y_pred)))\n",
    "print('roc_auc_score: {:.3f}'.format(roc_auc_score(y, out_pred)))\n",
    "\n",
    "fpr, tpr, thresholds = roc_curve(y, out_pred,drop_intermediate=True)\n",
    "plt.plot(fpr, tpr, marker='.')\n",
    "plt.xlabel('FPR: False positive rate')\n",
    "plt.ylabel('TPR: True positive rate')\n",
    "plt.grid()"
   ]
  },
  {
   "cell_type": "markdown",
   "metadata": {},
   "source": [
    "# 99. Save model"
   ]
  },
  {
   "cell_type": "code",
   "execution_count": 22,
   "metadata": {},
   "outputs": [],
   "source": [
    "for param in model.parameters():\n",
    "    param.requires_grad = True\n",
    "torch.save(model,\"model/SelfResnet9C1F_221108.pkl\")"
   ]
  },
  {
   "cell_type": "code",
   "execution_count": null,
   "metadata": {},
   "outputs": [],
   "source": []
  }
 ],
 "metadata": {
  "accelerator": "GPU",
  "colab": {
   "collapsed_sections": [],
   "name": "KIMIA_CNN.ipynb",
   "provenance": []
  },
  "kernelspec": {
   "display_name": "Python 3 (ipykernel)",
   "language": "python",
   "name": "python3"
  },
  "language_info": {
   "codemirror_mode": {
    "name": "ipython",
    "version": 3
   },
   "file_extension": ".py",
   "mimetype": "text/x-python",
   "name": "python",
   "nbconvert_exporter": "python",
   "pygments_lexer": "ipython3",
   "version": "3.7.13"
  },
  "toc": {
   "base_numbering": 1,
   "nav_menu": {},
   "number_sections": true,
   "sideBar": true,
   "skip_h1_title": false,
   "title_cell": "Table of Contents",
   "title_sidebar": "Contents",
   "toc_cell": false,
   "toc_position": {},
   "toc_section_display": true,
   "toc_window_display": false
  },
  "vscode": {
   "interpreter": {
    "hash": "aee8b7b246df8f9039afb4144a1f6fd8d2ca17a180786b69acc140d282b71a49"
   }
  }
 },
 "nbformat": 4,
 "nbformat_minor": 1
}

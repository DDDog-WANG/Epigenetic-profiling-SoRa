{
 "cells": [
  {
   "cell_type": "code",
   "execution_count": 1,
   "id": "72475bb6",
   "metadata": {},
   "outputs": [],
   "source": [
    "import cv2,os\n",
    "from skimage import io\n",
    "import numpy as np\n",
    "from tqdm import tqdm \n",
    "from matplotlib import pyplot as plt"
   ]
  },
  {
   "cell_type": "markdown",
   "id": "85837501",
   "metadata": {},
   "source": [
    "# Read Path "
   ]
  },
  {
   "cell_type": "code",
   "execution_count": 10,
   "id": "a6ec0ab3",
   "metadata": {},
   "outputs": [],
   "source": [
    "path_Ctrl = \"../../Datasets/221206SoRa/Single_Ctrl/60x_4x_Dapi_test_50nmSTP006/\"\n",
    "path_VPA = \"../../Datasets/221206SoRa/Single_VPA/VPA_555CTCF_488H3K27AC_DAPI_003/\""
   ]
  },
  {
   "cell_type": "code",
   "execution_count": 11,
   "id": "2f7b67c6",
   "metadata": {},
   "outputs": [
    {
     "name": "stdout",
     "output_type": "stream",
     "text": [
      "len(DataPath_Ctrl): 1780\n",
      "len(DataPath_VPA): 1805\n"
     ]
    }
   ],
   "source": [
    "DataPath_Ctrl=[]\n",
    "\n",
    "for root,dirs,files in os.walk(path_Ctrl):\n",
    "    for file_name in files:\n",
    "        path = os.path.join(root,file_name)\n",
    "        label = os.path.join(file_name)\n",
    "        DataPath_Ctrl.append(path)\n",
    "        \n",
    "print(\"len(DataPath_Ctrl):\",len(DataPath_Ctrl))\n",
    "\n",
    "############################################################\n",
    "\n",
    "DataPath_VPA=[]\n",
    "\n",
    "for root,dirs,files in os.walk(path_VPA):\n",
    "    for file_name in files:\n",
    "        path = os.path.join(root,file_name)\n",
    "        label = os.path.join(file_name)\n",
    "        DataPath_VPA.append(path)\n",
    "        \n",
    "print(\"len(DataPath_VPA):\",len(DataPath_VPA))"
   ]
  },
  {
   "cell_type": "markdown",
   "id": "95f33734",
   "metadata": {},
   "source": [
    "*********"
   ]
  },
  {
   "cell_type": "markdown",
   "id": "4b0d4f3f",
   "metadata": {},
   "source": [
    "# Read Image"
   ]
  },
  {
   "cell_type": "code",
   "execution_count": 14,
   "id": "17846ac2",
   "metadata": {},
   "outputs": [
    {
     "name": "stderr",
     "output_type": "stream",
     "text": [
      "100%|██████████████████████████████████████████████████████| 1780/1780 [01:10<00:00, 25.34it/s]\n",
      "/home/acd13264yb/python7_env/lib/python3.7/site-packages/ipykernel_launcher.py:6: VisibleDeprecationWarning: Creating an ndarray from ragged nested sequences (which is a list-or-tuple of lists-or-tuples-or ndarrays with different lengths or shapes) is deprecated. If you meant to do this, you must specify 'dtype=object' when creating the ndarray.\n",
      "  \n"
     ]
    }
   ],
   "source": [
    "img_Ctrl=[]\n",
    "for i in tqdm(range(len(DataPath_Ctrl))):\n",
    "    img = io.imread(DataPath_Ctrl[i])\n",
    "    img_Ctrl.append(img)\n",
    "    \n",
    "img_Ctrl = np.array(img_Ctrl,'dtype=object')\n",
    "np.save(\"img_Ctrl.npy\",img_Ctrl,'dtype=object')"
   ]
  },
  {
   "cell_type": "code",
   "execution_count": 15,
   "id": "348a9ae0",
   "metadata": {},
   "outputs": [
    {
     "name": "stderr",
     "output_type": "stream",
     "text": [
      "100%|██████████████████████████████████████████████████████| 1805/1805 [01:00<00:00, 29.91it/s]\n",
      "/home/acd13264yb/python7_env/lib/python3.7/site-packages/ipykernel_launcher.py:6: VisibleDeprecationWarning: Creating an ndarray from ragged nested sequences (which is a list-or-tuple of lists-or-tuples-or ndarrays with different lengths or shapes) is deprecated. If you meant to do this, you must specify 'dtype=object' when creating the ndarray.\n",
      "  \n"
     ]
    }
   ],
   "source": [
    "img_VPA=[]\n",
    "for i in tqdm(range(len(DataPath_VPA))):\n",
    "    img = io.imread(DataPath_VPA[i])\n",
    "    img_VPA.append(img)\n",
    "    \n",
    "img_VPA = np.array(img_VPA,'dtype=object')\n",
    "np.save(\"img_VPA.npy\",img_VPA,'dtype=object')"
   ]
  },
  {
   "cell_type": "markdown",
   "id": "8b3d5637",
   "metadata": {},
   "source": [
    "*********"
   ]
  },
  {
   "cell_type": "markdown",
   "id": "b065bb70",
   "metadata": {},
   "source": [
    "# Data preprocessing"
   ]
  },
  {
   "cell_type": "code",
   "execution_count": 17,
   "id": "d8d4d97d",
   "metadata": {},
   "outputs": [
    {
     "name": "stdout",
     "output_type": "stream",
     "text": [
      "img_Ctrl.shape: (1780,)\n",
      "img_VPA.shape: (1805,)\n"
     ]
    }
   ],
   "source": [
    "Data_Ctrl=np.load(\"img_Ctrl.npy\",allow_pickle=True)\n",
    "Data_VPA=np.load(\"img_VPA.npy\",allow_pickle=True)\n",
    "print(\"img_Ctrl.shape:\", Data_Ctrl.shape)\n",
    "print(\"img_VPA.shape:\", Data_VPA.shape)"
   ]
  },
  {
   "cell_type": "code",
   "execution_count": 30,
   "id": "a9d15b42",
   "metadata": {},
   "outputs": [
    {
     "data": {
      "text/plain": [
       "163"
      ]
     },
     "execution_count": 30,
     "metadata": {},
     "output_type": "execute_result"
    }
   ],
   "source": [
    "min(min(shapeX,shapeY))"
   ]
  },
  {
   "cell_type": "code",
   "execution_count": 31,
   "id": "1a932e79",
   "metadata": {},
   "outputs": [
    {
     "data": {
      "text/plain": [
       "<matplotlib.legend.Legend at 0x2b56d9b459d0>"
      ]
     },
     "execution_count": 31,
     "metadata": {},
     "output_type": "execute_result"
    },
    {
     "data": {
      "image/png": "[encoded data removed]",
      "text/plain": [
       "<Figure size 432x288 with 1 Axes>"
      ]
     },
     "metadata": {
      "needs_background": "light"
     },
     "output_type": "display_data"
    }
   ],
   "source": [
    "shapeX=[]\n",
    "shapeY=[]\n",
    "for i in range(len(Data_Ctrl)):\n",
    "    shapeX.append(Data_Ctrl[i].shape[0])\n",
    "    shapeY.append(Data_Ctrl[i].shape[1])\n",
    "fig, ax = plt.subplots()\n",
    "ax.hist([shapeX,shapeY], label=[\"shapeX\", \"shapeY\"], color=[\"r\", \"g\"], ec=\"k\",range=[min(min(shapeX,shapeY)),max(max(shapeX,shapeY))])\n",
    "ax.legend()"
   ]
  },
  {
   "cell_type": "code",
   "execution_count": 32,
   "id": "657026ee",
   "metadata": {},
   "outputs": [
    {
     "data": {
      "text/plain": [
       "<matplotlib.legend.Legend at 0x2b56d9c33750>"
      ]
     },
     "execution_count": 32,
     "metadata": {},
     "output_type": "execute_result"
    },
    {
     "data": {
      "image/png": "[encoded data removed]",
      "text/plain": [
       "<Figure size 432x288 with 1 Axes>"
      ]
     },
     "metadata": {
      "needs_background": "light"
     },
     "output_type": "display_data"
    }
   ],
   "source": [
    "shapeX=[]\n",
    "shapeY=[]\n",
    "for i in range(len(Data_VPA)):\n",
    "    shapeX.append(Data_VPA[i].shape[0])\n",
    "    shapeY.append(Data_VPA[i].shape[1])\n",
    "fig, ax = plt.subplots()\n",
    "ax.hist([shapeX,shapeY], label=[\"shapeX\", \"shapeY\"], color=[\"r\", \"g\"], ec=\"k\",range=[min(min(shapeX,shapeY)),max(max(shapeX,shapeY))])\n",
    "ax.legend()"
   ]
  },
  {
   "cell_type": "markdown",
   "id": "bec75299",
   "metadata": {},
   "source": [
    "## padding "
   ]
  },
  {
   "cell_type": "code",
   "execution_count": 33,
   "id": "3820323c",
   "metadata": {},
   "outputs": [],
   "source": [
    "#　同じサイズにする\n",
    "def datapadding(img):\n",
    "    imgSize = img.shape\n",
    "    top_size,bottom_size = (Max_shape_0-imgSize[0])//2,(Max_shape_0-imgSize[0])//2\n",
    "    left_size,right_size = (Max_shape_1-imgSize[1])//2,(Max_shape_1-imgSize[1])//2\n",
    "    if (imgSize[0] % 2) != 0:\n",
    "        top_size,bottom_size = (Max_shape_0-imgSize[0])//2,(Max_shape_0-imgSize[0])//2+1\n",
    "    if (imgSize[1] % 2) != 0:     \n",
    "        left_size,right_size = (Max_shape_1-imgSize[1])//2,(Max_shape_1-imgSize[1])//2+1\n",
    "    img_pad = cv2.copyMakeBorder(img,top_size,bottom_size,left_size,right_size,cv2.BORDER_CONSTANT,value=(0,0,0))\n",
    "    return img_pad"
   ]
  },
  {
   "cell_type": "code",
   "execution_count": 35,
   "id": "8514e028",
   "metadata": {},
   "outputs": [],
   "source": [
    "Max_shape_0=512\n",
    "Max_shape_1=512\n",
    "min_shape_0=300\n",
    "min_shape_1=300"
   ]
  },
  {
   "cell_type": "code",
   "execution_count": 36,
   "id": "b77b7aab",
   "metadata": {},
   "outputs": [
    {
     "name": "stdout",
     "output_type": "stream",
     "text": [
      "(1056, 512, 512, 3)\n",
      "(1199, 512, 512, 3)\n"
     ]
    }
   ],
   "source": [
    "num=0\n",
    "final_01=[]\n",
    "for n in range(len(Data_Ctrl)):\n",
    "    img = Data_Ctrl[n]\n",
    "    if min_shape_0<=img.shape[0]<=Max_shape_0 and min_shape_1<=img.shape[1]<=Max_shape_1:\n",
    "        num+=1\n",
    "        final_01.append(datapadding(img))\n",
    "final_01=np.array(final_01)\n",
    "np.save(\"Ctrl_pad.npy\",final_01)\n",
    "print(final_01.shape)\n",
    "\n",
    "\n",
    "num=0\n",
    "final_02=[]\n",
    "for n in range(len(Data_VPA)):\n",
    "    img = Data_VPA[n]\n",
    "    if min_shape_0<=img.shape[0]<=Max_shape_0 and min_shape_1<=img.shape[1]<=Max_shape_1:\n",
    "        num+=1\n",
    "        final_02.append(datapadding(img))\n",
    "final_02=np.array(final_02)\n",
    "np.save(\"VPA_pad.npy\",final_02)\n",
    "print(final_02.shape)"
   ]
  },
  {
   "cell_type": "markdown",
   "id": "897dd360",
   "metadata": {},
   "source": [
    "# split train and test"
   ]
  },
  {
   "cell_type": "code",
   "execution_count": 2,
   "id": "2105db33",
   "metadata": {},
   "outputs": [],
   "source": [
    "def NormToUnit8(img):\n",
    "    img_uint8 = img - img.min()\n",
    "    img_uint8 = img_uint8 / (img_uint8.max() - img_uint8.min())\n",
    "    img_uint8 *= 255\n",
    "    return img_uint8.astype(np.uint8)"
   ]
  },
  {
   "cell_type": "code",
   "execution_count": 12,
   "id": "49042926",
   "metadata": {},
   "outputs": [
    {
     "name": "stdout",
     "output_type": "stream",
     "text": [
      "Data_Ctrl.shape: (1056, 512, 512, 3)  dtype:  uint16\n",
      "Data_VPA.shape: (1199, 512, 512, 3)  dtype:  uint16\n"
     ]
    }
   ],
   "source": [
    "Data_Ctrl=np.load(\"Ctrl_pad.npy\",allow_pickle=True)\n",
    "Data_VPA=np.load(\"VPA_pad.npy\",allow_pickle=True)\n",
    "\n",
    "print(\"Data_Ctrl.shape:\", Data_Ctrl.shape, \" dtype: \", Data_Ctrl.dtype)\n",
    "print(\"Data_VPA.shape:\", Data_VPA.shape, \" dtype: \", Data_VPA.dtype)"
   ]
  },
  {
   "cell_type": "code",
   "execution_count": 13,
   "id": "211eb481",
   "metadata": {},
   "outputs": [
    {
     "name": "stdout",
     "output_type": "stream",
     "text": [
      "Data_Ctrl_unit8.shape: (1056, 512, 512, 3)  dtype:  uint8\n",
      "Data_VPA_unit8.shape: (1199, 512, 512, 3)  dtype:  uint8\n"
     ]
    }
   ],
   "source": [
    "Data_Ctrl_unit8=[]\n",
    "for img in Data_Ctrl:\n",
    "    Data_Ctrl_unit8.append(NormToUnit8(img))\n",
    "Data_Ctrl_unit8=np.array(Data_Ctrl_unit8)\n",
    "np.save(\"Ctrl_pad_unit8.npy\",Data_Ctrl_unit8)\n",
    "print(\"Data_Ctrl_unit8.shape:\", Data_Ctrl_unit8.shape, \" dtype: \", Data_Ctrl_unit8.dtype)\n",
    "\n",
    "Data_VPA_unit8=[]\n",
    "for img in Data_VPA:\n",
    "    Data_VPA_unit8.append(NormToUnit8(img))\n",
    "Data_VPA_unit8=np.array(Data_VPA_unit8)\n",
    "np.save(\"VPA_pad_unit8.npy\",Data_VPA_unit8)\n",
    "print(\"Data_VPA_unit8.shape:\", Data_VPA_unit8.shape, \" dtype: \", Data_VPA_unit8.dtype)"
   ]
  },
  {
   "cell_type": "code",
   "execution_count": null,
   "id": "b9095b3d",
   "metadata": {},
   "outputs": [],
   "source": []
  }
 ],
 "metadata": {
  "kernelspec": {
   "display_name": "Python 3 (ipykernel)",
   "language": "python",
   "name": "python3"
  },
  "language_info": {
   "codemirror_mode": {
    "name": "ipython",
    "version": 3
   },
   "file_extension": ".py",
   "mimetype": "text/x-python",
   "name": "python",
   "nbconvert_exporter": "python",
   "pygments_lexer": "ipython3",
   "version": "3.7.13"
  }
 },
 "nbformat": 4,
 "nbformat_minor": 5
}
